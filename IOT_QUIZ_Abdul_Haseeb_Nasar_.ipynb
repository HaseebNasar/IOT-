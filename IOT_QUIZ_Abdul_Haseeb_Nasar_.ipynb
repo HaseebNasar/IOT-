{
  "nbformat": 4,
  "nbformat_minor": 0,
  "metadata": {
    "colab": {
      "provenance": []
    },
    "kernelspec": {
      "name": "python3",
      "display_name": "Python 3"
    },
    "language_info": {
      "name": "python"
    }
  },
  "cells": [
    {
      "cell_type": "code",
      "execution_count": null,
      "metadata": {
        "colab": {
          "base_uri": "https://localhost:8080/"
        },
        "id": "qD27ZRT-xGR_",
        "outputId": "92e463d8-ff6e-4b29-cad1-16d4db0ff12d"
      },
      "outputs": [
        {
          "output_type": "stream",
          "name": "stdout",
          "text": [
            "['haseeb', 'rafey', 'rehan', 'haris', 'first', 'second', 'third', 'fourth']\n"
          ]
        }
      ],
      "source": [
        "#Q10) Python Program to merge two lists.\n",
        "\n",
        "list1=['haseeb','rafey','rehan','haris']\n",
        "list2=['first','second','third','fourth']\n",
        "list3= list1+list2\n",
        "print(list3)"
      ]
    },
    {
      "cell_type": "code",
      "source": [
        "#Q9) Python Program to calculate factorial.\n",
        "\n",
        "num1=int(input(\"Enter any number= \"))\n",
        "factorial=1\n",
        "for i in range(1,num1+1):\n",
        "  factorial= factorial*i\n",
        "print(\"The factorial of the number \",num1,\"is\",factorial )"
      ],
      "metadata": {
        "colab": {
          "base_uri": "https://localhost:8080/"
        },
        "id": "ZOhjvirVy8WE",
        "outputId": "fa6708b9-334d-4f89-c81d-f0f072be2d1e"
      },
      "execution_count": null,
      "outputs": [
        {
          "output_type": "stream",
          "name": "stdout",
          "text": [
            "Enter any number5\n",
            "The factorial of the number  5 is 120\n"
          ]
        }
      ]
    },
    {
      "cell_type": "code",
      "source": [
        "#Q8) Python program to check if a given character is a vowel or consonant.\n",
        "\n",
        "vowels=['a','e','i','o','u']\n",
        "word=str(input(\"Enter any character= \"))\n",
        "if word==vowels[0]:\n",
        "  print(\"Entered character is a vowel\")\n",
        "elif word==vowels[1]:\n",
        "  print(\"Entered character is a vowel\")\n",
        "elif word==vowels[2]:\n",
        "  print(\"Entered character is a vowel\")\n",
        "elif word==vowels[3]:\n",
        "  print(\"Entered character is a vowel\")\n",
        "elif word==vowels[4]:\n",
        "  print(\"Entered character is a vowel\")\n",
        "else:\n",
        "  print(\"Entered character is a consonant\")\n"
      ],
      "metadata": {
        "colab": {
          "base_uri": "https://localhost:8080/"
        },
        "id": "au5sqZ8Mzyup",
        "outputId": "1ac31d9c-9c7a-4a75-8715-5339705c49c2"
      },
      "execution_count": null,
      "outputs": [
        {
          "output_type": "stream",
          "name": "stdout",
          "text": [
            "Enter any character= t\n",
            "Entered character is a consonant\n"
          ]
        }
      ]
    },
    {
      "cell_type": "code",
      "source": [
        "# Q1) Python program to print all odd numbers in a list.\n",
        "\n",
        "list0= list(range(1,1000,2))\n",
        "print(list0)"
      ],
      "metadata": {
        "colab": {
          "base_uri": "https://localhost:8080/"
        },
        "id": "op79gWs21JpJ",
        "outputId": "bcb390fe-6663-4335-8cd3-ffe512411c38"
      },
      "execution_count": null,
      "outputs": [
        {
          "output_type": "stream",
          "name": "stdout",
          "text": [
            "[1, 3, 5, 7, 9, 11, 13, 15, 17, 19, 21, 23, 25, 27, 29, 31, 33, 35, 37, 39, 41, 43, 45, 47, 49, 51, 53, 55, 57, 59, 61, 63, 65, 67, 69, 71, 73, 75, 77, 79, 81, 83, 85, 87, 89, 91, 93, 95, 97, 99, 101, 103, 105, 107, 109, 111, 113, 115, 117, 119, 121, 123, 125, 127, 129, 131, 133, 135, 137, 139, 141, 143, 145, 147, 149, 151, 153, 155, 157, 159, 161, 163, 165, 167, 169, 171, 173, 175, 177, 179, 181, 183, 185, 187, 189, 191, 193, 195, 197, 199, 201, 203, 205, 207, 209, 211, 213, 215, 217, 219, 221, 223, 225, 227, 229, 231, 233, 235, 237, 239, 241, 243, 245, 247, 249, 251, 253, 255, 257, 259, 261, 263, 265, 267, 269, 271, 273, 275, 277, 279, 281, 283, 285, 287, 289, 291, 293, 295, 297, 299, 301, 303, 305, 307, 309, 311, 313, 315, 317, 319, 321, 323, 325, 327, 329, 331, 333, 335, 337, 339, 341, 343, 345, 347, 349, 351, 353, 355, 357, 359, 361, 363, 365, 367, 369, 371, 373, 375, 377, 379, 381, 383, 385, 387, 389, 391, 393, 395, 397, 399, 401, 403, 405, 407, 409, 411, 413, 415, 417, 419, 421, 423, 425, 427, 429, 431, 433, 435, 437, 439, 441, 443, 445, 447, 449, 451, 453, 455, 457, 459, 461, 463, 465, 467, 469, 471, 473, 475, 477, 479, 481, 483, 485, 487, 489, 491, 493, 495, 497, 499, 501, 503, 505, 507, 509, 511, 513, 515, 517, 519, 521, 523, 525, 527, 529, 531, 533, 535, 537, 539, 541, 543, 545, 547, 549, 551, 553, 555, 557, 559, 561, 563, 565, 567, 569, 571, 573, 575, 577, 579, 581, 583, 585, 587, 589, 591, 593, 595, 597, 599, 601, 603, 605, 607, 609, 611, 613, 615, 617, 619, 621, 623, 625, 627, 629, 631, 633, 635, 637, 639, 641, 643, 645, 647, 649, 651, 653, 655, 657, 659, 661, 663, 665, 667, 669, 671, 673, 675, 677, 679, 681, 683, 685, 687, 689, 691, 693, 695, 697, 699, 701, 703, 705, 707, 709, 711, 713, 715, 717, 719, 721, 723, 725, 727, 729, 731, 733, 735, 737, 739, 741, 743, 745, 747, 749, 751, 753, 755, 757, 759, 761, 763, 765, 767, 769, 771, 773, 775, 777, 779, 781, 783, 785, 787, 789, 791, 793, 795, 797, 799, 801, 803, 805, 807, 809, 811, 813, 815, 817, 819, 821, 823, 825, 827, 829, 831, 833, 835, 837, 839, 841, 843, 845, 847, 849, 851, 853, 855, 857, 859, 861, 863, 865, 867, 869, 871, 873, 875, 877, 879, 881, 883, 885, 887, 889, 891, 893, 895, 897, 899, 901, 903, 905, 907, 909, 911, 913, 915, 917, 919, 921, 923, 925, 927, 929, 931, 933, 935, 937, 939, 941, 943, 945, 947, 949, 951, 953, 955, 957, 959, 961, 963, 965, 967, 969, 971, 973, 975, 977, 979, 981, 983, 985, 987, 989, 991, 993, 995, 997, 999]\n"
          ]
        }
      ]
    },
    {
      "cell_type": "code",
      "source": [
        "# Q3) Python program to reverse a list in two ways.\n",
        "\n",
        "list4=[1,2,3,4,5,6,7,8,9]\n",
        "reverse1=list4[8::-1] #first method\n",
        "print(reverse1)\n",
        "reverse2=list4[-1::-1]#second method\n",
        "print(reverse2)"
      ],
      "metadata": {
        "colab": {
          "base_uri": "https://localhost:8080/"
        },
        "id": "gxDWWO9i2u-I",
        "outputId": "3150c51b-6252-4a9d-d62a-3d6466969fa7"
      },
      "execution_count": null,
      "outputs": [
        {
          "output_type": "stream",
          "name": "stdout",
          "text": [
            "[9, 8, 7, 6, 5, 4, 3, 2, 1]\n",
            "[9, 8, 7, 6, 5, 4, 3, 2, 1]\n"
          ]
        }
      ]
    },
    {
      "cell_type": "code",
      "source": [
        "# Q2) Python program to find the sum of list elements.\n",
        "\n",
        "list5= [1,2,3,4,5,6,7,8,9,10,11]\n",
        "add=0\n",
        "for i in list5:\n",
        "  add+= i\n",
        "  print(add)"
      ],
      "metadata": {
        "colab": {
          "base_uri": "https://localhost:8080/"
        },
        "id": "olIgvVhr4iNJ",
        "outputId": "ca1421b9-7367-446f-cc6e-58f25389237e"
      },
      "execution_count": null,
      "outputs": [
        {
          "output_type": "stream",
          "name": "stdout",
          "text": [
            "1\n",
            "3\n",
            "6\n",
            "10\n",
            "15\n",
            "21\n",
            "28\n",
            "36\n",
            "45\n",
            "55\n",
            "66\n"
          ]
        }
      ]
    },
    {
      "cell_type": "code",
      "source": [
        "# Q4) Python program to find the top two maximum numbers in a list.\n",
        "\n",
        "list7=[45,23,100,76,98]\n",
        "\n",
        "#for maximum number in the list:\n",
        "if list7[0]>list7[1] and list7[0]>list7[2] and list7[0]>list7[3] and list7[0]>list7[4]:\n",
        "  print(list7[0], \"is the maximum number in the list\")\n",
        "elif list7[1]>list7[0] and list7[1]>list7[2] and list7[1]>list7[3] and list7[1]>list7[4]:\n",
        "  print(list7[1], \"is the maximum number in the list\")\n",
        "elif list7[2]>list7[1] and list7[2]>list7[3] and list7[2]>list7[4] and list7[2]>list7[0] :\n",
        "  print(list7[2], \"is the maximum number in the list\")\n",
        "elif list7[3]>list7[0] and list7[3]>list7[1] and list7[3]>list7[2] and list7[3]>list7[4]:\n",
        "  print(list7[3], \"is the maximum number in the list\")\n",
        "elif list7[4]>list7[1] and list7[4]>list7[2] and list7[4]>list7[3] and list7[4]>list7[0] :\n",
        "  print(list7[4], \"is the maximum number in the list\")\n",
        "\n",
        "#for second maximum number in the list:\n",
        "list7.remove(max(list7))\n",
        "print(max(list7), \" is the second highest number in the list\")\n",
        "\n"
      ],
      "metadata": {
        "colab": {
          "base_uri": "https://localhost:8080/"
        },
        "id": "jJTnj9zE5icJ",
        "outputId": "39dfa6e9-4479-416b-d7ba-39077e3277b5"
      },
      "execution_count": 49,
      "outputs": [
        {
          "output_type": "stream",
          "name": "stdout",
          "text": [
            "100 is the maximum number in the list\n",
            "98  is the second highest number in the list\n"
          ]
        }
      ]
    },
    {
      "cell_type": "code",
      "source": [
        "#Q5) Write a program in Python to find the second highest number in an integer list.\n",
        "\n",
        "list7=[543,345,65,767,456,565]\n",
        "\n",
        "if list7[0]>list7[1] and list7[0]>list7[2] and list7[0]>list7[3] and list7[0]>list7[4] and list7[0]>list7[5]  :\n",
        "  print('')\n",
        "elif list7[1]>list7[0] and list7[1]>list7[2] and list7[1]>list7[3] and list7[1]>list7[4]  and list7[1]>list7[5] :\n",
        "  print('')\n",
        "elif list7[2]>list7[1] and list7[2]>list7[3] and list7[2]>list7[4] and list7[2]>list7[0] and list7[2]>list7[5]  :\n",
        "  print('')\n",
        "elif list7[3]>list7[0] and list7[3]>list7[1] and list7[3]>list7[2] and list7[3]>list7[4]  and list7[3]>list7[5] :\n",
        "  print('')\n",
        "elif list7[4]>list7[1] and list7[4]>list7[2] and list7[4]>list7[3] and list7[4]>list7[0]  and list7[4]>list7[5]  :\n",
        "  print('')\n",
        "elif list7[5]>list7[1] and list7[5]>list7[2] and list7[5]>list7[3] and list7[5]>list7[0]  and list7[5]>list7[4]  :\n",
        "  print('')\n",
        "\n",
        "#for second highest number in the list:\n",
        "list7.remove(max(list7))\n",
        "print(max(list7), \" is the second highest number in the list\")\n"
      ],
      "metadata": {
        "colab": {
          "base_uri": "https://localhost:8080/"
        },
        "id": "cHbmc2DH7Sg2",
        "outputId": "dd6243a5-4c4e-4936-ec70-9ad4855db40a"
      },
      "execution_count": 50,
      "outputs": [
        {
          "output_type": "stream",
          "name": "stdout",
          "text": [
            "\n",
            "565  is the second highest number in the list\n"
          ]
        }
      ]
    },
    {
      "cell_type": "code",
      "source": [
        "#Q6) Python program to sort characters in descending order.\n",
        "list10=[312,43,32,45,56]\n",
        "list10.sort(reverse=True)\n",
        "print(list10)\n"
      ],
      "metadata": {
        "id": "1C5xi2p0-Qh6",
        "colab": {
          "base_uri": "https://localhost:8080/"
        },
        "outputId": "134b0e39-85b5-4016-c685-1de0db2c745f"
      },
      "execution_count": 59,
      "outputs": [
        {
          "output_type": "stream",
          "name": "stdout",
          "text": [
            "[312, 56, 45, 43, 32]\n"
          ]
        }
      ]
    },
    {
      "cell_type": "code",
      "source": [],
      "metadata": {
        "id": "P6nq53l5C8LZ"
      },
      "execution_count": null,
      "outputs": []
    },
    {
      "cell_type": "code",
      "source": [],
      "metadata": {
        "id": "hnmjmfaZEq8B"
      },
      "execution_count": null,
      "outputs": []
    }
  ]
}